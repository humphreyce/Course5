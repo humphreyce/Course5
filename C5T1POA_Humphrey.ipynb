{
 "cells": [
  {
   "cell_type": "code",
   "execution_count": 3,
   "metadata": {},
   "outputs": [],
   "source": [
    "import numpy"
   ]
  },
  {
   "cell_type": "code",
   "execution_count": 4,
   "metadata": {},
   "outputs": [],
   "source": [
    "import math\n",
    "import scipy"
   ]
  },
  {
   "cell_type": "code",
   "execution_count": 8,
   "metadata": {},
   "outputs": [
    {
     "name": "stdout",
     "output_type": "stream",
     "text": [
      "[[0.81913314 0.35920534 0.64359311 0.23579933 0.790839  ]\n",
      " [0.84970513 0.94846229 0.31105698 0.9792193  0.94117829]\n",
      " [0.00948604 0.97381004 0.84051215 0.42295813 0.69060739]\n",
      " [0.14264049 0.58750431 0.12925454 0.03277378 0.39233898]\n",
      " [0.89661423 0.72849637 0.64228528 0.08827431 0.27976854]]\n"
     ]
    },
    {
     "data": {
      "text/plain": [
       "0.5494206599739674"
      ]
     },
     "execution_count": 8,
     "metadata": {},
     "output_type": "execute_result"
    }
   ],
   "source": [
    "from numpy import random\n",
    "import numpy as np\n",
    "# uniform random numbers in [0,1]\n",
    "dataOne = random.rand(5,5)\n",
    "print(dataOne)\n",
    "np.mean(dataOne)"
   ]
  },
  {
   "cell_type": "code",
   "execution_count": 17,
   "metadata": {},
   "outputs": [
    {
     "name": "stdout",
     "output_type": "stream",
     "text": [
      "3.141592653589793\n",
      "0.9484622870621829\n",
      "0.9167944945180209\n"
     ]
    }
   ],
   "source": [
    "# math functions:\n",
    "x = math.pi\n",
    "print(x)\n",
    "y = math.fabs(dataOne[1,1]) #absolute value\n",
    "z = math.sqrt(dataOne[2,2]) #square root\n",
    "print(y)\n",
    "print(z)"
   ]
  },
  {
   "cell_type": "code",
   "execution_count": 26,
   "metadata": {},
   "outputs": [
    {
     "name": "stdout",
     "output_type": "stream",
     "text": [
      "DescribeResult(nobs=5, minmax=(array([0.00948604, 0.35920534, 0.12925454, 0.03277378, 0.27976854]), array([0.89661423, 0.97381004, 0.84051215, 0.9792193 , 0.94117829])), mean=array([0.54351581, 0.71949567, 0.51334041, 0.35180497, 0.61894644]), variance=array([0.18507103, 0.06610334, 0.08226861, 0.14584953, 0.07622707]), skewness=array([-0.43199576, -0.33905102, -0.30280663,  0.97855995, -0.1560619 ]), kurtosis=array([-1.74765919, -1.27751251, -1.36276661, -0.49747607, -1.51820251]))\n",
      "mean = 0.5494206599739674\n",
      "[0.89661423 0.97381004 0.84051215 0.9792193  0.94117829]\n"
     ]
    }
   ],
   "source": [
    "# stats functions\n",
    "from scipy import stats\n",
    "x = scipy.stats.describe(dataOne)\n",
    "print(x)\n",
    "y = scipy.stats.tmean(dataOne)\n",
    "print(\"mean =\", y)\n",
    "z = scipy.stats.tmax(dataOne)\n",
    "print(z)"
   ]
  },
  {
   "cell_type": "code",
   "execution_count": 27,
   "metadata": {},
   "outputs": [
    {
     "name": "stdout",
     "output_type": "stream",
     "text": [
      "50.0\n"
     ]
    }
   ],
   "source": [
    "varOne = 25\n",
    "varTwo = 25.0\n",
    "varThree = varOne + varTwo\n",
    "print(varThree)"
   ]
  },
  {
   "cell_type": "code",
   "execution_count": 7,
   "metadata": {},
   "outputs": [
    {
     "ename": "TypeError",
     "evalue": "unsupported operand type(s) for +: 'int' and 'str'",
     "output_type": "error",
     "traceback": [
      "\u001b[0;31m---------------------------------------------------------------------------\u001b[0m",
      "\u001b[0;31mTypeError\u001b[0m                                 Traceback (most recent call last)",
      "\u001b[0;32m<ipython-input-7-63f2f9cabb7a>\u001b[0m in \u001b[0;36m<module>\u001b[0;34m\u001b[0m\n\u001b[1;32m      1\u001b[0m \u001b[0mvarOne\u001b[0m \u001b[0;34m=\u001b[0m \u001b[0;36m25\u001b[0m\u001b[0;34m\u001b[0m\u001b[0;34m\u001b[0m\u001b[0m\n\u001b[1;32m      2\u001b[0m \u001b[0mvarTwo\u001b[0m \u001b[0;34m=\u001b[0m \u001b[0;34m'Hello'\u001b[0m\u001b[0;34m\u001b[0m\u001b[0;34m\u001b[0m\u001b[0m\n\u001b[0;32m----> 3\u001b[0;31m \u001b[0mvarThree\u001b[0m \u001b[0;34m=\u001b[0m \u001b[0mvarOne\u001b[0m \u001b[0;34m+\u001b[0m \u001b[0mvarTwo\u001b[0m \u001b[0;31m#returns error because trying to add a text string to an integer => not allowed\u001b[0m\u001b[0;34m\u001b[0m\u001b[0;34m\u001b[0m\u001b[0m\n\u001b[0m\u001b[1;32m      4\u001b[0m \u001b[0;31m#AND needs \"\" around Hello, not ''\u001b[0m\u001b[0;34m\u001b[0m\u001b[0;34m\u001b[0m\u001b[0;34m\u001b[0m\u001b[0m\n\u001b[1;32m      5\u001b[0m \u001b[0mprint\u001b[0m\u001b[0;34m(\u001b[0m\u001b[0mvarThree\u001b[0m\u001b[0;34m)\u001b[0m\u001b[0;34m\u001b[0m\u001b[0;34m\u001b[0m\u001b[0m\n",
      "\u001b[0;31mTypeError\u001b[0m: unsupported operand type(s) for +: 'int' and 'str'"
     ]
    }
   ],
   "source": [
    "varOne = 25\n",
    "varTwo = 'Hello'\n",
    "varThree = varOne + varTwo #returns error because trying to add a text string to an integer => not allowed\n",
    "print(varThree)\n"
   ]
  },
  {
   "cell_type": "code",
   "execution_count": 9,
   "metadata": {},
   "outputs": [
    {
     "name": "stdout",
     "output_type": "stream",
     "text": [
      "25Hello\n"
     ]
    }
   ],
   "source": [
    "#Correct way:\n",
    "varOne = 25\n",
    "varTwo = 'Hello'\n",
    "varThree = str(varOne) + varTwo\n",
    "print(varThree)"
   ]
  },
  {
   "cell_type": "code",
   "execution_count": 33,
   "metadata": {},
   "outputs": [
    {
     "name": "stdout",
     "output_type": "stream",
     "text": [
      "1.7320508075688772\n",
      "2.0\n",
      "1.5707963267948966\n"
     ]
    }
   ],
   "source": [
    "my_dict = {'black':0, 'white':1, 'blue':-2, 'orange':3, 'red':4}\n",
    "z = math.sqrt(my_dict['orange'])\n",
    "print(z)\n",
    "y = math.fabs(my_dict['blue']) #absolute value\n",
    "print(y)\n",
    "x = math.acos(my_dict['black'])\n",
    "print(x)"
   ]
  },
  {
   "cell_type": "code",
   "execution_count": 41,
   "metadata": {},
   "outputs": [
    {
     "name": "stdout",
     "output_type": "stream",
     "text": [
      "10000\n"
     ]
    }
   ],
   "source": [
    "import pandas\n",
    "data = pandas.read_csv(\"Blackwell_Hist_Sample.csv\")\n",
    "print(len(data))"
   ]
  },
  {
   "cell_type": "code",
   "execution_count": null,
   "metadata": {},
   "outputs": [],
   "source": []
  }
 ],
 "metadata": {
  "kernelspec": {
   "display_name": "Python 3",
   "language": "python",
   "name": "python3"
  },
  "language_info": {
   "codemirror_mode": {
    "name": "ipython",
    "version": 3
   },
   "file_extension": ".py",
   "mimetype": "text/x-python",
   "name": "python",
   "nbconvert_exporter": "python",
   "pygments_lexer": "ipython3",
   "version": "3.7.4"
  }
 },
 "nbformat": 4,
 "nbformat_minor": 2
}
